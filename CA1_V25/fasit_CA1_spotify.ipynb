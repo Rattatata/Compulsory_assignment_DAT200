{
 "cells": [
  {
   "cell_type": "markdown",
   "metadata": {},
   "source": [
    "# CA1: Dataframe Manipulation with Spotify Data"
   ]
  },
  {
   "cell_type": "markdown",
   "metadata": {},
   "source": [
    "## Introduction\n",
    "Pandas is an extremely powerful tool to handle large amounts of tabular data. In this compulsory assignment, you will use Pandas to explore one of the TA's personal spotify data in depth. \\\n",
    "\\\n",
    "Additional information:\n",
    "- Feel free to create additional code cells if you feel that one cell per subtask is not sufficient.\n",
    "- Remember, Pandas uses very efficient code to handle large amounts of data. For-loops are not efficient. If you ever have to use a for-loop to loop over the rows in the DataFrame, you have *probably* done something wrong.\n",
    "- Label all graphs and charts if applicable."
   ]
  },
  {
   "cell_type": "markdown",
   "metadata": {},
   "source": [
    "## Task\n",
    "I typically enjoy indie and rock music. I am a big fan of everything from old-fashioned rock and roll like Led Zeppelin and Jimi Hendrix, to newer indie artists like Joji and Lana Del Rey. This is why my spotify wrapped for 2023 came as quite a surprise:"
   ]
  },
  {
   "cell_type": "markdown",
   "metadata": {},
   "source": [
    "<img src=\"spotifywrapped.PNG\" alt=\"Image Description\" width=\"20%\">\n"
   ]
  },
  {
   "cell_type": "markdown",
   "metadata": {},
   "source": [
    "Now, I'm no hater of pop music, but this was unexpected. \n",
    "For this assignment, you will investigate my listening habits, including a deep dive into my Ariana Grande listening habits, and try to find an answer to why she was my top artist; was there a fault in the spotify algorithm? Am I actually secretly an *Arianator*? (yes, I did have to look that up). Or am I just lying to myself about how often I listen to guilty pleasure music?"
   ]
  },
  {
   "cell_type": "markdown",
   "metadata": {},
   "source": [
    "## Part 1: Initial loading and exploration"
   ]
  },
  {
   "cell_type": "markdown",
   "metadata": {},
   "source": [
    "#### 1.0 Import necessary libraries: \n",
    "pandas, numpy, matplotlib.pyplot (other libraries such as seaborn or plotly are also allowed if you want prettier plots). It might also be a good idea to use **os** for task 2.0"
   ]
  },
  {
   "cell_type": "code",
   "execution_count": 1,
   "metadata": {},
   "outputs": [],
   "source": [
    "import matplotlib.pyplot as plt\n",
    "import pandas as pd\n",
    "import os"
   ]
  },
  {
   "cell_type": "markdown",
   "metadata": {},
   "source": [
    "#### 1.1 Loading the data\n",
    "Load the dataset in the file `streaming_history_0.csv` into a Pandas DataFrame called `df_spotify_0`."
   ]
  },
  {
   "cell_type": "code",
   "execution_count": 2,
   "metadata": {},
   "outputs": [
    {
     "name": "stdout",
     "output_type": "stream",
     "text": [
      "                endTime            artistName  \\\n",
      "0      2022-12-03 02:02  Cigarettes After Sex   \n",
      "1      2022-12-03 02:02         Leonard Cohen   \n",
      "2      2022-12-06 21:05          Vlad Holiday   \n",
      "3      2022-12-06 21:05                 Lorde   \n",
      "4      2022-12-06 21:05         Ariana Grande   \n",
      "...                 ...                   ...   \n",
      "11954  2023-01-02 20:59     Kaizers Orchestra   \n",
      "11955  2023-01-02 20:59              Mr.Kitty   \n",
      "11956  2023-01-02 20:59          daddy's girl   \n",
      "11957  2023-01-02 20:59          daddy's girl   \n",
      "11958  2023-01-02 20:59          daddy's girl   \n",
      "\n",
      "                             trackName  msPlayed  \n",
      "0                                Truly   30000.0  \n",
      "1      Take This Waltz - Paris Version    8210.0  \n",
      "2                     So Damn Into You   37895.0  \n",
      "3                                 Team    8984.0  \n",
      "4                             Into You    1221.0  \n",
      "...                                ...       ...  \n",
      "11954                      Resistansen     208.0  \n",
      "11955                       After Dark  101447.0  \n",
      "11956     after dark x sweater weather     301.0  \n",
      "11957     after dark x sweater weather     208.0  \n",
      "11958     after dark x sweater weather     789.0  \n",
      "\n",
      "[11959 rows x 4 columns]\n"
     ]
    }
   ],
   "source": [
    "file_path = 'spotify_data/streaminghistory0.csv'\n",
    "df_spotify_0 = pd.read_csv(file_path, header=0)\n",
    "print(df_spotify_0)"
   ]
  },
  {
   "cell_type": "markdown",
   "metadata": {},
   "source": [
    "#### 1.2 Help function\n",
    "Use the Python command `help` to help you understand how to use the `pd.DataFrame.head` and `pd.DataFrame.tail` methods."
   ]
  },
  {
   "cell_type": "code",
   "execution_count": 3,
   "metadata": {},
   "outputs": [
    {
     "name": "stdout",
     "output_type": "stream",
     "text": [
      "Help on method tail in module pandas.core.generic:\n",
      "\n",
      "tail(n: 'int' = 5) -> 'Self' method of pandas.core.frame.DataFrame instance\n",
      "    Return the last `n` rows.\n",
      "\n",
      "    This function returns last `n` rows from the object based on\n",
      "    position. It is useful for quickly verifying data, for example,\n",
      "    after sorting or appending rows.\n",
      "\n",
      "    For negative values of `n`, this function returns all rows except\n",
      "    the first `|n|` rows, equivalent to ``df[|n|:]``.\n",
      "\n",
      "    If n is larger than the number of rows, this function returns all rows.\n",
      "\n",
      "    Parameters\n",
      "    ----------\n",
      "    n : int, default 5\n",
      "        Number of rows to select.\n",
      "\n",
      "    Returns\n",
      "    -------\n",
      "    type of caller\n",
      "        The last `n` rows of the caller object.\n",
      "\n",
      "    See Also\n",
      "    --------\n",
      "    DataFrame.head : The first `n` rows of the caller object.\n",
      "\n",
      "    Examples\n",
      "    --------\n",
      "    >>> df = pd.DataFrame({'animal': ['alligator', 'bee', 'falcon', 'lion',\n",
      "    ...                    'monkey', 'parrot', 'shark', 'whale', 'zebra']})\n",
      "    >>> df\n",
      "          animal\n",
      "    0  alligator\n",
      "    1        bee\n",
      "    2     falcon\n",
      "    3       lion\n",
      "    4     monkey\n",
      "    5     parrot\n",
      "    6      shark\n",
      "    7      whale\n",
      "    8      zebra\n",
      "\n",
      "    Viewing the last 5 lines\n",
      "\n",
      "    >>> df.tail()\n",
      "       animal\n",
      "    4  monkey\n",
      "    5  parrot\n",
      "    6   shark\n",
      "    7   whale\n",
      "    8   zebra\n",
      "\n",
      "    Viewing the last `n` lines (three in this case)\n",
      "\n",
      "    >>> df.tail(3)\n",
      "      animal\n",
      "    6  shark\n",
      "    7  whale\n",
      "    8  zebra\n",
      "\n",
      "    For negative values of `n`\n",
      "\n",
      "    >>> df.tail(-3)\n",
      "       animal\n",
      "    3    lion\n",
      "    4  monkey\n",
      "    5  parrot\n",
      "    6   shark\n",
      "    7   whale\n",
      "    8   zebra\n",
      "\n",
      "Help on method head in module pandas.core.generic:\n",
      "\n",
      "head(n: 'int' = 5) -> 'Self' method of pandas.core.frame.DataFrame instance\n",
      "    Return the first `n` rows.\n",
      "\n",
      "    This function returns the first `n` rows for the object based\n",
      "    on position. It is useful for quickly testing if your object\n",
      "    has the right type of data in it.\n",
      "\n",
      "    For negative values of `n`, this function returns all rows except\n",
      "    the last `|n|` rows, equivalent to ``df[:n]``.\n",
      "\n",
      "    If n is larger than the number of rows, this function returns all rows.\n",
      "\n",
      "    Parameters\n",
      "    ----------\n",
      "    n : int, default 5\n",
      "        Number of rows to select.\n",
      "\n",
      "    Returns\n",
      "    -------\n",
      "    same type as caller\n",
      "        The first `n` rows of the caller object.\n",
      "\n",
      "    See Also\n",
      "    --------\n",
      "    DataFrame.tail: Returns the last `n` rows.\n",
      "\n",
      "    Examples\n",
      "    --------\n",
      "    >>> df = pd.DataFrame({'animal': ['alligator', 'bee', 'falcon', 'lion',\n",
      "    ...                    'monkey', 'parrot', 'shark', 'whale', 'zebra']})\n",
      "    >>> df\n",
      "          animal\n",
      "    0  alligator\n",
      "    1        bee\n",
      "    2     falcon\n",
      "    3       lion\n",
      "    4     monkey\n",
      "    5     parrot\n",
      "    6      shark\n",
      "    7      whale\n",
      "    8      zebra\n",
      "\n",
      "    Viewing the first 5 lines\n",
      "\n",
      "    >>> df.head()\n",
      "          animal\n",
      "    0  alligator\n",
      "    1        bee\n",
      "    2     falcon\n",
      "    3       lion\n",
      "    4     monkey\n",
      "\n",
      "    Viewing the first `n` lines (three in this case)\n",
      "\n",
      "    >>> df.head(3)\n",
      "          animal\n",
      "    0  alligator\n",
      "    1        bee\n",
      "    2     falcon\n",
      "\n",
      "    For negative values of `n`\n",
      "\n",
      "    >>> df.head(-3)\n",
      "          animal\n",
      "    0  alligator\n",
      "    1        bee\n",
      "    2     falcon\n",
      "    3       lion\n",
      "    4     monkey\n",
      "    5     parrot\n",
      "\n"
     ]
    }
   ],
   "source": [
    "help(df_spotify_0.tail)\n",
    "help(df_spotify_0.head)"
   ]
  },
  {
   "cell_type": "markdown",
   "metadata": {},
   "source": [
    "#### 1.3 Getting an overview\n",
    "Print the first `five` and last `ten` rows of the dataframe. Have a quick look at which columns are in the dataset. "
   ]
  },
  {
   "cell_type": "code",
   "execution_count": 4,
   "metadata": {},
   "outputs": [
    {
     "data": {
      "text/html": [
       "<div>\n",
       "<style scoped>\n",
       "    .dataframe tbody tr th:only-of-type {\n",
       "        vertical-align: middle;\n",
       "    }\n",
       "\n",
       "    .dataframe tbody tr th {\n",
       "        vertical-align: top;\n",
       "    }\n",
       "\n",
       "    .dataframe thead th {\n",
       "        text-align: right;\n",
       "    }\n",
       "</style>\n",
       "<table border=\"1\" class=\"dataframe\">\n",
       "  <thead>\n",
       "    <tr style=\"text-align: right;\">\n",
       "      <th></th>\n",
       "      <th>endTime</th>\n",
       "      <th>artistName</th>\n",
       "      <th>trackName</th>\n",
       "      <th>msPlayed</th>\n",
       "    </tr>\n",
       "  </thead>\n",
       "  <tbody>\n",
       "    <tr>\n",
       "      <th>11949</th>\n",
       "      <td>2023-01-02 20:58</td>\n",
       "      <td>Ariana Grande</td>\n",
       "      <td>six thirty</td>\n",
       "      <td>1699.0</td>\n",
       "    </tr>\n",
       "    <tr>\n",
       "      <th>11950</th>\n",
       "      <td>2023-01-02 20:58</td>\n",
       "      <td>Leonard Cohen</td>\n",
       "      <td>Thanks for the Dance</td>\n",
       "      <td>19483.0</td>\n",
       "    </tr>\n",
       "    <tr>\n",
       "      <th>11951</th>\n",
       "      <td>2023-01-02 20:59</td>\n",
       "      <td>Des Rocs</td>\n",
       "      <td>Used to the Darkness</td>\n",
       "      <td>185.0</td>\n",
       "    </tr>\n",
       "    <tr>\n",
       "      <th>11952</th>\n",
       "      <td>2023-01-02 20:59</td>\n",
       "      <td>Caroline Polachek</td>\n",
       "      <td>Hit Me Where It Hurts</td>\n",
       "      <td>603.0</td>\n",
       "    </tr>\n",
       "    <tr>\n",
       "      <th>11953</th>\n",
       "      <td>2023-01-02 20:59</td>\n",
       "      <td>Caroline Polachek</td>\n",
       "      <td>Hit Me Where It Hurts</td>\n",
       "      <td>208.0</td>\n",
       "    </tr>\n",
       "    <tr>\n",
       "      <th>11954</th>\n",
       "      <td>2023-01-02 20:59</td>\n",
       "      <td>Kaizers Orchestra</td>\n",
       "      <td>Resistansen</td>\n",
       "      <td>208.0</td>\n",
       "    </tr>\n",
       "    <tr>\n",
       "      <th>11955</th>\n",
       "      <td>2023-01-02 20:59</td>\n",
       "      <td>Mr.Kitty</td>\n",
       "      <td>After Dark</td>\n",
       "      <td>101447.0</td>\n",
       "    </tr>\n",
       "    <tr>\n",
       "      <th>11956</th>\n",
       "      <td>2023-01-02 20:59</td>\n",
       "      <td>daddy's girl</td>\n",
       "      <td>after dark x sweater weather</td>\n",
       "      <td>301.0</td>\n",
       "    </tr>\n",
       "    <tr>\n",
       "      <th>11957</th>\n",
       "      <td>2023-01-02 20:59</td>\n",
       "      <td>daddy's girl</td>\n",
       "      <td>after dark x sweater weather</td>\n",
       "      <td>208.0</td>\n",
       "    </tr>\n",
       "    <tr>\n",
       "      <th>11958</th>\n",
       "      <td>2023-01-02 20:59</td>\n",
       "      <td>daddy's girl</td>\n",
       "      <td>after dark x sweater weather</td>\n",
       "      <td>789.0</td>\n",
       "    </tr>\n",
       "  </tbody>\n",
       "</table>\n",
       "</div>"
      ],
      "text/plain": [
       "                endTime         artistName                     trackName  \\\n",
       "11949  2023-01-02 20:58      Ariana Grande                    six thirty   \n",
       "11950  2023-01-02 20:58      Leonard Cohen          Thanks for the Dance   \n",
       "11951  2023-01-02 20:59           Des Rocs          Used to the Darkness   \n",
       "11952  2023-01-02 20:59  Caroline Polachek         Hit Me Where It Hurts   \n",
       "11953  2023-01-02 20:59  Caroline Polachek         Hit Me Where It Hurts   \n",
       "11954  2023-01-02 20:59  Kaizers Orchestra                   Resistansen   \n",
       "11955  2023-01-02 20:59           Mr.Kitty                    After Dark   \n",
       "11956  2023-01-02 20:59       daddy's girl  after dark x sweater weather   \n",
       "11957  2023-01-02 20:59       daddy's girl  after dark x sweater weather   \n",
       "11958  2023-01-02 20:59       daddy's girl  after dark x sweater weather   \n",
       "\n",
       "       msPlayed  \n",
       "11949    1699.0  \n",
       "11950   19483.0  \n",
       "11951     185.0  \n",
       "11952     603.0  \n",
       "11953     208.0  \n",
       "11954     208.0  \n",
       "11955  101447.0  \n",
       "11956     301.0  \n",
       "11957     208.0  \n",
       "11958     789.0  "
      ]
     },
     "execution_count": 4,
     "metadata": {},
     "output_type": "execute_result"
    }
   ],
   "source": [
    "df_spotify_0.head(5) # automatically set to five \n",
    "df_spotify_0.tail(10)"
   ]
  },
  {
   "cell_type": "markdown",
   "metadata": {},
   "source": [
    "#### 1.4 Formatting correctly\n",
    "When working with Pandas, it's very useful to have columns which contains dates in a specific format called *datetime*. This allows for efficient manipulation and analysis of time-series data, such as sorting, filtering by date or time, and resampling for different time periods. Figure out which column(s) would be appropriate to convert to datetime, if any, and if so, perform the conversion to the correct format."
   ]
  },
  {
   "cell_type": "code",
   "execution_count": 5,
   "metadata": {},
   "outputs": [
    {
     "name": "stdout",
     "output_type": "stream",
     "text": [
      "                  endTime            artistName  \\\n",
      "0     2022-12-03 02:02:00  Cigarettes After Sex   \n",
      "1     2022-12-03 02:02:00         Leonard Cohen   \n",
      "2     2022-12-06 21:05:00          Vlad Holiday   \n",
      "3     2022-12-06 21:05:00                 Lorde   \n",
      "4     2022-12-06 21:05:00         Ariana Grande   \n",
      "...                   ...                   ...   \n",
      "11954 2023-01-02 20:59:00     Kaizers Orchestra   \n",
      "11955 2023-01-02 20:59:00              Mr.Kitty   \n",
      "11956 2023-01-02 20:59:00          daddy's girl   \n",
      "11957 2023-01-02 20:59:00          daddy's girl   \n",
      "11958 2023-01-02 20:59:00          daddy's girl   \n",
      "\n",
      "                             trackName  msPlayed  \n",
      "0                                Truly   30000.0  \n",
      "1      Take This Waltz - Paris Version    8210.0  \n",
      "2                     So Damn Into You   37895.0  \n",
      "3                                 Team    8984.0  \n",
      "4                             Into You    1221.0  \n",
      "...                                ...       ...  \n",
      "11954                      Resistansen     208.0  \n",
      "11955                       After Dark  101447.0  \n",
      "11956     after dark x sweater weather     301.0  \n",
      "11957     after dark x sweater weather     208.0  \n",
      "11958     after dark x sweater weather     789.0  \n",
      "\n",
      "[11959 rows x 4 columns]\n"
     ]
    }
   ],
   "source": [
    "df_spotify_0['endTime'] = pd.to_datetime(df_spotify_0['endTime'])\n",
    "print(df_spotify_0)\n"
   ]
  },
  {
   "cell_type": "markdown",
   "metadata": {},
   "source": [
    "#### 1.5 Unique artists\n",
    "Find how many unique artists are in the dataset.\n"
   ]
  },
  {
   "cell_type": "code",
   "execution_count": 6,
   "metadata": {},
   "outputs": [
    {
     "name": "stdout",
     "output_type": "stream",
     "text": [
      "495\n"
     ]
    }
   ],
   "source": [
    "number_of_unique_artists = df_spotify_0['artistName'].nunique()\n",
    "print(number_of_unique_artists)"
   ]
  },
  {
   "cell_type": "markdown",
   "metadata": {},
   "source": [
    "#### 1.6 Unique songs\n",
    "Find how many unique songs are in the dataset."
   ]
  },
  {
   "cell_type": "code",
   "execution_count": 7,
   "metadata": {},
   "outputs": [
    {
     "name": "stdout",
     "output_type": "stream",
     "text": [
      "1308\n"
     ]
    }
   ],
   "source": [
    "number_of_unique_songs = df_spotify_0['trackName'].nunique()\n",
    "print(number_of_unique_songs)"
   ]
  },
  {
   "cell_type": "markdown",
   "metadata": {},
   "source": [
    "### Part 1: Questions\n",
    "Q1: Which columns are in the dataset?\n",
    "The columns in the dataset are 'endTime', 'artistName', 'trackName' and 'msPlayed'.\n",
    "\n",
    "Q2: What timeframe does the dataset span?\n",
    "The timeframe spans from 3th of december 2022 until 1th feburary 2023.\n",
    "\n",
    "Q3: How many unique artists are in the dataset?\n",
    "There are 495 unique artists in the dataset.\n",
    "\n",
    "Q4: How many unique songs are in the dataset?\n",
    "There are 1308 unique songs in the dataset."
   ]
  },
  {
   "cell_type": "markdown",
   "metadata": {},
   "source": [
    "## Part 2: Working with all the data"
   ]
  },
  {
   "cell_type": "markdown",
   "metadata": {},
   "source": [
    "#### 2.0 Importing all the dataframes\n",
    "In Task 1, you only worked with about a month worth of data. Now, you will work with over a year worth. \n",
    "\n",
    "In the *spotify_data* folder, there is more than just one listening record. Load each of the 14 listening records into a dataframe (1 dataframe per listening record), and concatenate them together into one large dataframe named `df`."
   ]
  },
  {
   "cell_type": "code",
   "execution_count": 8,
   "metadata": {},
   "outputs": [
    {
     "name": "stdout",
     "output_type": "stream",
     "text": [
      "                endTime                    artistName  \\\n",
      "0      2023-08-11 09:14                    Yumi Zouma   \n",
      "1      2023-08-11 09:14                         BØRNS   \n",
      "2      2023-08-11 09:14                      Gorillaz   \n",
      "3      2023-08-11 09:14                   Mötley Crüe   \n",
      "4      2023-08-11 09:14                        Pixies   \n",
      "...                 ...                           ...   \n",
      "11954  2023-08-11 08:46               Tears For Fears   \n",
      "11955  2023-08-11 08:47                       TV Girl   \n",
      "11956  2023-08-11 08:47                 Ariana Grande   \n",
      "11957  2023-08-11 09:11                 Ariana Grande   \n",
      "11958  2023-08-11 09:11  Creedence Clearwater Revival   \n",
      "\n",
      "                                trackName  msPlayed [ZoneTransfer]  \n",
      "0                               Yesterday    1770.0            NaN  \n",
      "1                    10,000 Emerald Pools    4160.0            NaN  \n",
      "2      She's My Collar (feat. Kali Uchis)     810.0            NaN  \n",
      "3                            Dr. Feelgood    1706.0            NaN  \n",
      "4                     Here Comes Your Man   14191.0            NaN  \n",
      "...                                   ...       ...            ...  \n",
      "11954                     Head Over Heels   26426.0            NaN  \n",
      "11955                         Not Allowed   24712.0            NaN  \n",
      "11956                       My Everything    8261.0            NaN  \n",
      "11957                          Break Free   16787.0            NaN  \n",
      "11958                       Fortunate Son    8041.0            NaN  \n",
      "\n",
      "[167467 rows x 5 columns]\n"
     ]
    }
   ],
   "source": [
    "path_folder = 'spotify_data'\n",
    "list_of_files = os.listdir(path_folder)\n",
    "df1 = []\n",
    "for file in list_of_files: \n",
    "    df = pd.read_csv(path_folder + '/' + file)\n",
    "    df1.append(df)\n",
    "merged_df = pd.concat(df1)\n",
    "print(merged_df)\n",
    "\n"
   ]
  },
  {
   "cell_type": "markdown",
   "metadata": {},
   "source": [
    "#### 2.1 Sorting by time\n",
    "Datasets often aren't perfect. One example of an issue that could occur is that the time-based data might not be in chronological order. If this were to happen, the rows in your dataframe could be in the wrong order. To ensure this isn't an issue in your dataframe, you should sort the dataframe in chronological order, from oldest to newest."
   ]
  },
  {
   "cell_type": "code",
   "execution_count": 10,
   "metadata": {},
   "outputs": [
    {
     "data": {
      "text/html": [
       "<div>\n",
       "<style scoped>\n",
       "    .dataframe tbody tr th:only-of-type {\n",
       "        vertical-align: middle;\n",
       "    }\n",
       "\n",
       "    .dataframe tbody tr th {\n",
       "        vertical-align: top;\n",
       "    }\n",
       "\n",
       "    .dataframe thead th {\n",
       "        text-align: right;\n",
       "    }\n",
       "</style>\n",
       "<table border=\"1\" class=\"dataframe\">\n",
       "  <thead>\n",
       "    <tr style=\"text-align: right;\">\n",
       "      <th></th>\n",
       "      <th>endTime</th>\n",
       "      <th>artistName</th>\n",
       "      <th>trackName</th>\n",
       "      <th>msPlayed</th>\n",
       "      <th>[ZoneTransfer]</th>\n",
       "    </tr>\n",
       "  </thead>\n",
       "  <tbody>\n",
       "    <tr>\n",
       "      <th>0</th>\n",
       "      <td>2022-12-03 02:02:00</td>\n",
       "      <td>Cigarettes After Sex</td>\n",
       "      <td>Truly</td>\n",
       "      <td>30000.0</td>\n",
       "      <td>NaN</td>\n",
       "    </tr>\n",
       "    <tr>\n",
       "      <th>1</th>\n",
       "      <td>2022-12-03 02:02:00</td>\n",
       "      <td>Leonard Cohen</td>\n",
       "      <td>Take This Waltz - Paris Version</td>\n",
       "      <td>8210.0</td>\n",
       "      <td>NaN</td>\n",
       "    </tr>\n",
       "    <tr>\n",
       "      <th>2</th>\n",
       "      <td>2022-12-06 21:05:00</td>\n",
       "      <td>Vlad Holiday</td>\n",
       "      <td>So Damn Into You</td>\n",
       "      <td>37895.0</td>\n",
       "      <td>NaN</td>\n",
       "    </tr>\n",
       "    <tr>\n",
       "      <th>3</th>\n",
       "      <td>2022-12-06 21:05:00</td>\n",
       "      <td>Lorde</td>\n",
       "      <td>Team</td>\n",
       "      <td>8984.0</td>\n",
       "      <td>NaN</td>\n",
       "    </tr>\n",
       "    <tr>\n",
       "      <th>4</th>\n",
       "      <td>2022-12-06 21:05:00</td>\n",
       "      <td>Ariana Grande</td>\n",
       "      <td>Into You</td>\n",
       "      <td>1221.0</td>\n",
       "      <td>NaN</td>\n",
       "    </tr>\n",
       "    <tr>\n",
       "      <th>...</th>\n",
       "      <td>...</td>\n",
       "      <td>...</td>\n",
       "      <td>...</td>\n",
       "      <td>...</td>\n",
       "      <td>...</td>\n",
       "    </tr>\n",
       "    <tr>\n",
       "      <th>9062</th>\n",
       "      <td>NaT</td>\n",
       "      <td>The Lumineers</td>\n",
       "      <td>Ophelia</td>\n",
       "      <td>371.0</td>\n",
       "      <td>NaN</td>\n",
       "    </tr>\n",
       "    <tr>\n",
       "      <th>0</th>\n",
       "      <td>NaT</td>\n",
       "      <td>NaN</td>\n",
       "      <td>NaN</td>\n",
       "      <td>NaN</td>\n",
       "      <td>ZoneId=3</td>\n",
       "    </tr>\n",
       "    <tr>\n",
       "      <th>1</th>\n",
       "      <td>NaT</td>\n",
       "      <td>NaN</td>\n",
       "      <td>NaN</td>\n",
       "      <td>NaN</td>\n",
       "      <td>ReferrerUrl=C:\\Users\\holml\\Downloads\\CA1_assig...</td>\n",
       "    </tr>\n",
       "    <tr>\n",
       "      <th>0</th>\n",
       "      <td>NaT</td>\n",
       "      <td>NaN</td>\n",
       "      <td>NaN</td>\n",
       "      <td>NaN</td>\n",
       "      <td>ZoneId=3</td>\n",
       "    </tr>\n",
       "    <tr>\n",
       "      <th>1</th>\n",
       "      <td>NaT</td>\n",
       "      <td>NaN</td>\n",
       "      <td>NaN</td>\n",
       "      <td>NaN</td>\n",
       "      <td>ReferrerUrl=C:\\Users\\holml\\Downloads\\CA1_assig...</td>\n",
       "    </tr>\n",
       "  </tbody>\n",
       "</table>\n",
       "<p>167467 rows × 5 columns</p>\n",
       "</div>"
      ],
      "text/plain": [
       "                 endTime            artistName  \\\n",
       "0    2022-12-03 02:02:00  Cigarettes After Sex   \n",
       "1    2022-12-03 02:02:00         Leonard Cohen   \n",
       "2    2022-12-06 21:05:00          Vlad Holiday   \n",
       "3    2022-12-06 21:05:00                 Lorde   \n",
       "4    2022-12-06 21:05:00         Ariana Grande   \n",
       "...                  ...                   ...   \n",
       "9062                 NaT         The Lumineers   \n",
       "0                    NaT                   NaN   \n",
       "1                    NaT                   NaN   \n",
       "0                    NaT                   NaN   \n",
       "1                    NaT                   NaN   \n",
       "\n",
       "                            trackName  msPlayed  \\\n",
       "0                               Truly   30000.0   \n",
       "1     Take This Waltz - Paris Version    8210.0   \n",
       "2                    So Damn Into You   37895.0   \n",
       "3                                Team    8984.0   \n",
       "4                            Into You    1221.0   \n",
       "...                               ...       ...   \n",
       "9062                          Ophelia     371.0   \n",
       "0                                 NaN       NaN   \n",
       "1                                 NaN       NaN   \n",
       "0                                 NaN       NaN   \n",
       "1                                 NaN       NaN   \n",
       "\n",
       "                                         [ZoneTransfer]  \n",
       "0                                                   NaN  \n",
       "1                                                   NaN  \n",
       "2                                                   NaN  \n",
       "3                                                   NaN  \n",
       "4                                                   NaN  \n",
       "...                                                 ...  \n",
       "9062                                                NaN  \n",
       "0                                              ZoneId=3  \n",
       "1     ReferrerUrl=C:\\Users\\holml\\Downloads\\CA1_assig...  \n",
       "0                                              ZoneId=3  \n",
       "1     ReferrerUrl=C:\\Users\\holml\\Downloads\\CA1_assig...  \n",
       "\n",
       "[167467 rows x 5 columns]"
      ]
     },
     "execution_count": 10,
     "metadata": {},
     "output_type": "execute_result"
    }
   ],
   "source": [
    "merged_df['endTime'] = pd.to_datetime(merged_df['endTime'])\n",
    "merged_df.sort_values(by='endTime')\n",
    "\n"
   ]
  },
  {
   "cell_type": "code",
   "execution_count": 12,
   "metadata": {},
   "outputs": [
    {
     "data": {
      "text/html": [
       "<div>\n",
       "<style scoped>\n",
       "    .dataframe tbody tr th:only-of-type {\n",
       "        vertical-align: middle;\n",
       "    }\n",
       "\n",
       "    .dataframe tbody tr th {\n",
       "        vertical-align: top;\n",
       "    }\n",
       "\n",
       "    .dataframe thead th {\n",
       "        text-align: right;\n",
       "    }\n",
       "</style>\n",
       "<table border=\"1\" class=\"dataframe\">\n",
       "  <thead>\n",
       "    <tr style=\"text-align: right;\">\n",
       "      <th></th>\n",
       "      <th>endTime</th>\n",
       "      <th>artistName</th>\n",
       "      <th>trackName</th>\n",
       "      <th>msPlayed</th>\n",
       "    </tr>\n",
       "  </thead>\n",
       "  <tbody>\n",
       "    <tr>\n",
       "      <th>0</th>\n",
       "      <td>2023-08-11 09:14:00</td>\n",
       "      <td>Yumi Zouma</td>\n",
       "      <td>Yesterday</td>\n",
       "      <td>1770.0</td>\n",
       "    </tr>\n",
       "    <tr>\n",
       "      <th>1</th>\n",
       "      <td>2023-08-11 09:14:00</td>\n",
       "      <td>BØRNS</td>\n",
       "      <td>10,000 Emerald Pools</td>\n",
       "      <td>4160.0</td>\n",
       "    </tr>\n",
       "    <tr>\n",
       "      <th>2</th>\n",
       "      <td>2023-08-11 09:14:00</td>\n",
       "      <td>Gorillaz</td>\n",
       "      <td>She's My Collar (feat. Kali Uchis)</td>\n",
       "      <td>810.0</td>\n",
       "    </tr>\n",
       "    <tr>\n",
       "      <th>3</th>\n",
       "      <td>2023-08-11 09:14:00</td>\n",
       "      <td>Mötley Crüe</td>\n",
       "      <td>Dr. Feelgood</td>\n",
       "      <td>1706.0</td>\n",
       "    </tr>\n",
       "    <tr>\n",
       "      <th>4</th>\n",
       "      <td>2023-08-11 09:14:00</td>\n",
       "      <td>Pixies</td>\n",
       "      <td>Here Comes Your Man</td>\n",
       "      <td>14191.0</td>\n",
       "    </tr>\n",
       "  </tbody>\n",
       "</table>\n",
       "</div>"
      ],
      "text/plain": [
       "              endTime   artistName                           trackName  \\\n",
       "0 2023-08-11 09:14:00   Yumi Zouma                           Yesterday   \n",
       "1 2023-08-11 09:14:00        BØRNS                10,000 Emerald Pools   \n",
       "2 2023-08-11 09:14:00     Gorillaz  She's My Collar (feat. Kali Uchis)   \n",
       "3 2023-08-11 09:14:00  Mötley Crüe                        Dr. Feelgood   \n",
       "4 2023-08-11 09:14:00       Pixies                 Here Comes Your Man   \n",
       "\n",
       "   msPlayed  \n",
       "0    1770.0  \n",
       "1    4160.0  \n",
       "2     810.0  \n",
       "3    1706.0  \n",
       "4   14191.0  "
      ]
     },
     "execution_count": 12,
     "metadata": {},
     "output_type": "execute_result"
    }
   ],
   "source": [
    "merged_df = merged_df.drop(columns=['[ZoneTransfer]'])\n",
    "merged_df.head()"
   ]
  },
  {
   "cell_type": "markdown",
   "metadata": {},
   "source": [
    "#### 2.2 Setting a timeframe\n",
    "For this investigation, we are only interested in investigating listening patterns from **2023**. Remove any data not from **2023** from the DataFrame."
   ]
  },
  {
   "cell_type": "code",
   "execution_count": 13,
   "metadata": {},
   "outputs": [
    {
     "name": "stdout",
     "output_type": "stream",
     "text": [
      "(156557, 4)\n"
     ]
    }
   ],
   "source": [
    "only_2023_df = merged_df[merged_df['endTime'].dt.year == 2023]\n",
    "print(only_2023_df.shape)"
   ]
  },
  {
   "cell_type": "markdown",
   "metadata": {},
   "source": [
    "#### 2.3 Deleting rows\n",
    "Often in Data Science, you will encounter when a row entry has the value *NaN*, indicating missing data. These entries can skew your analysis, leading to inaccurate conclusions. For this task, identify and remove any rows in your DataFrame that contain NaN values. \\\n",
    "Later in the course, you might encounter other techniques of dealing with missing data, typically reffered to as *data imputation*. Here, though, you are just supposed to delete the entire rows with missing data."
   ]
  },
  {
   "cell_type": "code",
   "execution_count": 14,
   "metadata": {},
   "outputs": [
    {
     "name": "stdout",
     "output_type": "stream",
     "text": [
      "(156539, 4)\n"
     ]
    }
   ],
   "source": [
    "cleaned_df = only_2023_df.dropna()\n",
    "print(cleaned_df.shape)"
   ]
  },
  {
   "cell_type": "markdown",
   "metadata": {},
   "source": [
    "#### 2.4 Convert from milliseconds to seconds\n",
    "From `msPlayed`, create a new column `secPlayed` with the data converted from milliseconds to seconds. Then delete the column `msPlayed`."
   ]
  },
  {
   "cell_type": "code",
   "execution_count": 15,
   "metadata": {},
   "outputs": [
    {
     "name": "stdout",
     "output_type": "stream",
     "text": [
      "              endTime   artistName                           trackName  \\\n",
      "0 2023-08-11 09:14:00   Yumi Zouma                           Yesterday   \n",
      "1 2023-08-11 09:14:00        BØRNS                10,000 Emerald Pools   \n",
      "2 2023-08-11 09:14:00     Gorillaz  She's My Collar (feat. Kali Uchis)   \n",
      "3 2023-08-11 09:14:00  Mötley Crüe                        Dr. Feelgood   \n",
      "4 2023-08-11 09:14:00       Pixies                 Here Comes Your Man   \n",
      "\n",
      "   secPlayed  \n",
      "0      1.770  \n",
      "1      4.160  \n",
      "2      0.810  \n",
      "3      1.706  \n",
      "4     14.191  \n"
     ]
    },
    {
     "name": "stderr",
     "output_type": "stream",
     "text": [
      "/tmp/ipykernel_450139/2136612342.py:1: SettingWithCopyWarning: \n",
      "A value is trying to be set on a copy of a slice from a DataFrame.\n",
      "Try using .loc[row_indexer,col_indexer] = value instead\n",
      "\n",
      "See the caveats in the documentation: https://pandas.pydata.org/pandas-docs/stable/user_guide/indexing.html#returning-a-view-versus-a-copy\n",
      "  cleaned_df['secPlayed'] = cleaned_df['msPlayed'] / 1000\n"
     ]
    }
   ],
   "source": [
    "cleaned_df['secPlayed'] = cleaned_df['msPlayed'] / 1000 \n",
    "cleaned_df = cleaned_df.drop(columns=['msPlayed'])\n",
    "print(cleaned_df.head())\n"
   ]
  },
  {
   "cell_type": "markdown",
   "metadata": {},
   "source": [
    "#### 2.5 Finding top 10 favorite artists\n",
    "Find the top `ten` artists with the highest total play time (in seconds). Plot your findings in a bar graph. \\\n",
    "(hint: start by creating a new DataFrame with only `artistName` and your time column. To proceed, you will also likely need the `groupby` command from Pandas.)"
   ]
  },
  {
   "cell_type": "code",
   "execution_count": 16,
   "metadata": {},
   "outputs": [
    {
     "data": {
      "image/png": "[encoded data removed]",
      "text/plain": [
       "<Figure size 640x480 with 1 Axes>"
      ]
     },
     "metadata": {},
     "output_type": "display_data"
    }
   ],
   "source": [
    "artists_by_total_seconds = cleaned_df.groupby('artistName')['secPlayed'].sum()\n",
    "top_ten_artists = artists_by_total_seconds.nlargest(10)\n",
    "top_ten_artists.plot(kind='bar', color='red')\n",
    "plt.xlabel('artistName')\n",
    "plt.ylabel('total amount of listend seconds')\n",
    "plt.title('Top 10 artists')\n",
    "plt.xticks(rotation = 45, ha = 'right')\n",
    "plt.show()\n"
   ]
  },
  {
   "cell_type": "markdown",
   "metadata": {},
   "source": [
    "#### 2.6 Finding top 10 favorite songs\n",
    "Find the top `ten` songs with the highest play time. Create a graph visualizing the results."
   ]
  },
  {
   "cell_type": "code",
   "execution_count": null,
   "metadata": {},
   "outputs": [
    {
     "data": {
      "image/png": "[encoded data removed]",
      "text/plain": [
       "<Figure size 640x480 with 1 Axes>"
      ]
     },
     "metadata": {},
     "output_type": "display_data"
    }
   ],
   "source": [
    "artists_by_total_seconds = cleaned_df.groupby('trackName')['secPlayed'].sum()\n",
    "top_ten_artists = artists_by_total_seconds.nlargest(10)\n",
    "top_ten_artists.plot(kind='bar', color='blue')\n",
    "plt.xlabel('songname')\n",
    "plt.ylabel('total amount of listend seconds')\n",
    "plt.title('Top 10 songs')\n",
    "plt.xticks(rotation = 45, ha = 'right')\n",
    "plt.show()"
   ]
  },
  {
   "cell_type": "markdown",
   "metadata": {},
   "source": [
    "## Part 3: Further analysis"
   ]
  },
  {
   "cell_type": "markdown",
   "metadata": {},
   "source": [
    "#### 3.0 Average listening time by hour\n",
    "Generate a plot that displays the average amount of time that music is played for each hour of the day."
   ]
  },
  {
   "cell_type": "code",
   "execution_count": null,
   "metadata": {},
   "outputs": [
    {
     "data": {
      "image/png": "[encoded data removed]",
      "text/plain": [
       "<Figure size 640x480 with 1 Axes>"
      ]
     },
     "metadata": {},
     "output_type": "display_data"
    }
   ],
   "source": [
    "cleaned_df['hour'] = cleaned_df['endTime'].dt.hour\n",
    "group_hours = (cleaned_df.groupby('hour')['secPlayed'].sum()) / 60 / 365\n",
    "\n",
    "plt.bar(group_hours.index, group_hours.values)\n",
    "plt.title('Average Listening Time per minute for Each Hour of the Day')\n",
    "plt.xlabel('Hour of the Day')\n",
    "plt.ylabel('Average Listening Time (minutes)')\n",
    "hour_ranges = [f\"{hour:02d}:00-{(hour + 1) % 24:02d}:00\" for hour in range(24)]\n",
    "plt.xticks(range(24), labels=hour_ranges, rotation= 'vertical')\n",
    "plt.show()\n"
   ]
  },
  {
   "cell_type": "code",
   "execution_count": 22,
   "metadata": {},
   "outputs": [
    {
     "data": {
      "text/plain": [
       "189"
      ]
     },
     "execution_count": 22,
     "metadata": {},
     "output_type": "execute_result"
    }
   ],
   "source": [
    "#Count Rage Against the Machine in the artistName column\n",
    "cleaned_df['artistName'].value_counts()['Rage Against The Machine']"
   ]
  },
  {
   "cell_type": "code",
   "execution_count": null,
   "metadata": {},
   "outputs": [
    {
     "ename": "KeyError",
     "evalue": "'Rage Against the Machine'",
     "output_type": "error",
     "traceback": [
      "\u001b[0;31m---------------------------------------------------------------------------\u001b[0m",
      "\u001b[0;31mKeyError\u001b[0m                                  Traceback (most recent call last)",
      "File \u001b[0;32m~/miniconda3/envs/exp/lib/python3.12/site-packages/pandas/core/indexes/base.py:3805\u001b[0m, in \u001b[0;36mIndex.get_loc\u001b[0;34m(self, key)\u001b[0m\n\u001b[1;32m   3804\u001b[0m \u001b[38;5;28;01mtry\u001b[39;00m:\n\u001b[0;32m-> 3805\u001b[0m     \u001b[38;5;28;01mreturn\u001b[39;00m \u001b[38;5;28mself\u001b[39m\u001b[38;5;241m.\u001b[39m_engine\u001b[38;5;241m.\u001b[39mget_loc(casted_key)\n\u001b[1;32m   3806\u001b[0m \u001b[38;5;28;01mexcept\u001b[39;00m \u001b[38;5;167;01mKeyError\u001b[39;00m \u001b[38;5;28;01mas\u001b[39;00m err:\n",
      "File \u001b[0;32mindex.pyx:167\u001b[0m, in \u001b[0;36mpandas._libs.index.IndexEngine.get_loc\u001b[0;34m()\u001b[0m\n",
      "File \u001b[0;32mindex.pyx:196\u001b[0m, in \u001b[0;36mpandas._libs.index.IndexEngine.get_loc\u001b[0;34m()\u001b[0m\n",
      "File \u001b[0;32mpandas/_libs/hashtable_class_helper.pxi:7081\u001b[0m, in \u001b[0;36mpandas._libs.hashtable.PyObjectHashTable.get_item\u001b[0;34m()\u001b[0m\n",
      "File \u001b[0;32mpandas/_libs/hashtable_class_helper.pxi:7089\u001b[0m, in \u001b[0;36mpandas._libs.hashtable.PyObjectHashTable.get_item\u001b[0;34m()\u001b[0m\n",
      "\u001b[0;31mKeyError\u001b[0m: 'Rage Against the Machine'",
      "\nThe above exception was the direct cause of the following exception:\n",
      "\u001b[0;31mKeyError\u001b[0m                                  Traceback (most recent call last)",
      "Cell \u001b[0;32mIn[20], line 1\u001b[0m\n\u001b[0;32m----> 1\u001b[0m a\u001b[38;5;241m.\u001b[39mloc[\u001b[38;5;124m\"\u001b[39m\u001b[38;5;124mRage Against the Machine\u001b[39m\u001b[38;5;124m\"\u001b[39m]\n",
      "File \u001b[0;32m~/miniconda3/envs/exp/lib/python3.12/site-packages/pandas/core/indexing.py:1191\u001b[0m, in \u001b[0;36m_LocationIndexer.__getitem__\u001b[0;34m(self, key)\u001b[0m\n\u001b[1;32m   1189\u001b[0m maybe_callable \u001b[38;5;241m=\u001b[39m com\u001b[38;5;241m.\u001b[39mapply_if_callable(key, \u001b[38;5;28mself\u001b[39m\u001b[38;5;241m.\u001b[39mobj)\n\u001b[1;32m   1190\u001b[0m maybe_callable \u001b[38;5;241m=\u001b[39m \u001b[38;5;28mself\u001b[39m\u001b[38;5;241m.\u001b[39m_check_deprecated_callable_usage(key, maybe_callable)\n\u001b[0;32m-> 1191\u001b[0m \u001b[38;5;28;01mreturn\u001b[39;00m \u001b[38;5;28mself\u001b[39m\u001b[38;5;241m.\u001b[39m_getitem_axis(maybe_callable, axis\u001b[38;5;241m=\u001b[39maxis)\n",
      "File \u001b[0;32m~/miniconda3/envs/exp/lib/python3.12/site-packages/pandas/core/indexing.py:1431\u001b[0m, in \u001b[0;36m_LocIndexer._getitem_axis\u001b[0;34m(self, key, axis)\u001b[0m\n\u001b[1;32m   1429\u001b[0m \u001b[38;5;66;03m# fall thru to straight lookup\u001b[39;00m\n\u001b[1;32m   1430\u001b[0m \u001b[38;5;28mself\u001b[39m\u001b[38;5;241m.\u001b[39m_validate_key(key, axis)\n\u001b[0;32m-> 1431\u001b[0m \u001b[38;5;28;01mreturn\u001b[39;00m \u001b[38;5;28mself\u001b[39m\u001b[38;5;241m.\u001b[39m_get_label(key, axis\u001b[38;5;241m=\u001b[39maxis)\n",
      "File \u001b[0;32m~/miniconda3/envs/exp/lib/python3.12/site-packages/pandas/core/indexing.py:1381\u001b[0m, in \u001b[0;36m_LocIndexer._get_label\u001b[0;34m(self, label, axis)\u001b[0m\n\u001b[1;32m   1379\u001b[0m \u001b[38;5;28;01mdef\u001b[39;00m \u001b[38;5;21m_get_label\u001b[39m(\u001b[38;5;28mself\u001b[39m, label, axis: AxisInt):\n\u001b[1;32m   1380\u001b[0m     \u001b[38;5;66;03m# GH#5567 this will fail if the label is not present in the axis.\u001b[39;00m\n\u001b[0;32m-> 1381\u001b[0m     \u001b[38;5;28;01mreturn\u001b[39;00m \u001b[38;5;28mself\u001b[39m\u001b[38;5;241m.\u001b[39mobj\u001b[38;5;241m.\u001b[39mxs(label, axis\u001b[38;5;241m=\u001b[39maxis)\n",
      "File \u001b[0;32m~/miniconda3/envs/exp/lib/python3.12/site-packages/pandas/core/generic.py:4301\u001b[0m, in \u001b[0;36mNDFrame.xs\u001b[0;34m(self, key, axis, level, drop_level)\u001b[0m\n\u001b[1;32m   4299\u001b[0m             new_index \u001b[38;5;241m=\u001b[39m index[loc]\n\u001b[1;32m   4300\u001b[0m \u001b[38;5;28;01melse\u001b[39;00m:\n\u001b[0;32m-> 4301\u001b[0m     loc \u001b[38;5;241m=\u001b[39m index\u001b[38;5;241m.\u001b[39mget_loc(key)\n\u001b[1;32m   4303\u001b[0m     \u001b[38;5;28;01mif\u001b[39;00m \u001b[38;5;28misinstance\u001b[39m(loc, np\u001b[38;5;241m.\u001b[39mndarray):\n\u001b[1;32m   4304\u001b[0m         \u001b[38;5;28;01mif\u001b[39;00m loc\u001b[38;5;241m.\u001b[39mdtype \u001b[38;5;241m==\u001b[39m np\u001b[38;5;241m.\u001b[39mbool_:\n",
      "File \u001b[0;32m~/miniconda3/envs/exp/lib/python3.12/site-packages/pandas/core/indexes/base.py:3812\u001b[0m, in \u001b[0;36mIndex.get_loc\u001b[0;34m(self, key)\u001b[0m\n\u001b[1;32m   3807\u001b[0m     \u001b[38;5;28;01mif\u001b[39;00m \u001b[38;5;28misinstance\u001b[39m(casted_key, \u001b[38;5;28mslice\u001b[39m) \u001b[38;5;129;01mor\u001b[39;00m (\n\u001b[1;32m   3808\u001b[0m         \u001b[38;5;28misinstance\u001b[39m(casted_key, abc\u001b[38;5;241m.\u001b[39mIterable)\n\u001b[1;32m   3809\u001b[0m         \u001b[38;5;129;01mand\u001b[39;00m \u001b[38;5;28many\u001b[39m(\u001b[38;5;28misinstance\u001b[39m(x, \u001b[38;5;28mslice\u001b[39m) \u001b[38;5;28;01mfor\u001b[39;00m x \u001b[38;5;129;01min\u001b[39;00m casted_key)\n\u001b[1;32m   3810\u001b[0m     ):\n\u001b[1;32m   3811\u001b[0m         \u001b[38;5;28;01mraise\u001b[39;00m InvalidIndexError(key)\n\u001b[0;32m-> 3812\u001b[0m     \u001b[38;5;28;01mraise\u001b[39;00m \u001b[38;5;167;01mKeyError\u001b[39;00m(key) \u001b[38;5;28;01mfrom\u001b[39;00m \u001b[38;5;21;01merr\u001b[39;00m\n\u001b[1;32m   3813\u001b[0m \u001b[38;5;28;01mexcept\u001b[39;00m \u001b[38;5;167;01mTypeError\u001b[39;00m:\n\u001b[1;32m   3814\u001b[0m     \u001b[38;5;66;03m# If we have a listlike key, _check_indexing_error will raise\u001b[39;00m\n\u001b[1;32m   3815\u001b[0m     \u001b[38;5;66;03m#  InvalidIndexError. Otherwise we fall through and re-raise\u001b[39;00m\n\u001b[1;32m   3816\u001b[0m     \u001b[38;5;66;03m#  the TypeError.\u001b[39;00m\n\u001b[1;32m   3817\u001b[0m     \u001b[38;5;28mself\u001b[39m\u001b[38;5;241m.\u001b[39m_check_indexing_error(key)\n",
      "\u001b[0;31mKeyError\u001b[0m: 'Rage Against the Machine'"
     ]
    }
   ],
   "source": []
  },
  {
   "cell_type": "markdown",
   "metadata": {},
   "source": [
    "#### 3.1 Morning music and evening music\n",
    "I think many people find that some types of music are more suitable for morning listening and some music is more suitable for evening listening. Create a plot that compares the play time of the artists *Leonard Cohen* and *Rage Against the Machine* on an hour-by-hour basis. See if there are any differences."
   ]
  },
  {
   "cell_type": "code",
   "execution_count": null,
   "metadata": {},
   "outputs": [
    {
     "data": {
      "image/png": "[encoded data removed]",
      "text/plain": [
       "<Figure size 640x480 with 1 Axes>"
      ]
     },
     "metadata": {},
     "output_type": "display_data"
    }
   ],
   "source": [
    "Cohen_hours = cleaned_df[cleaned_df['artistName'] == 'Leonard Cohen'].groupby('hour')['secPlayed'].sum() / 60 / 365\n",
    "Rage_hours = cleaned_df[cleaned_df['artistName'] == 'Rage Against The Machine'].groupby('hour')['secPlayed'].sum() / 60 / 365\n",
    "\n",
    "plt.plot(Cohen_hours.index, Cohen_hours.values, label='Leonard Cohen')\n",
    "plt.plot(Rage_hours.index, Rage_hours.values, label='Rage Against the Machine') \n",
    "\n",
    "plt.xlabel('Hour of the Day')\n",
    "plt.ylabel('Average Minutes Played per Day per hour')\n",
    "plt.title('Average Listening Time for Artists')\n",
    "plt.show()\n",
    "\n"
   ]
  },
  {
   "cell_type": "markdown",
   "metadata": {},
   "source": [
    "#### 3.2 Analysing skipped songs\n",
    "Determining whether a song was skipped or listened to can be challenging. For this analysis, we'll simplify by defining a skipped song as any track played for less than 30 seconds. Conversely, a song played for 30 seconds or more is considered listened to. \\\n",
    " Add a column to your DataFrame to reflect this criteria: set the value to 1 if the song was played for less than 30 seconds (indicating a skipped song), and 0 if it was played for 30 seconds or longer."
   ]
  },
  {
   "cell_type": "code",
   "execution_count": null,
   "metadata": {},
   "outputs": [
    {
     "data": {
      "text/html": [
       "<div>\n",
       "<style scoped>\n",
       "    .dataframe tbody tr th:only-of-type {\n",
       "        vertical-align: middle;\n",
       "    }\n",
       "\n",
       "    .dataframe tbody tr th {\n",
       "        vertical-align: top;\n",
       "    }\n",
       "\n",
       "    .dataframe thead th {\n",
       "        text-align: right;\n",
       "    }\n",
       "</style>\n",
       "<table border=\"1\" class=\"dataframe\">\n",
       "  <thead>\n",
       "    <tr style=\"text-align: right;\">\n",
       "      <th></th>\n",
       "      <th>endTime</th>\n",
       "      <th>artistName</th>\n",
       "      <th>trackName</th>\n",
       "      <th>secPlayed</th>\n",
       "      <th>hour</th>\n",
       "      <th>skipped</th>\n",
       "    </tr>\n",
       "  </thead>\n",
       "  <tbody>\n",
       "    <tr>\n",
       "      <th>0</th>\n",
       "      <td>2023-07-05 16:31:00</td>\n",
       "      <td>Rush</td>\n",
       "      <td>Tom Sawyer</td>\n",
       "      <td>2.066</td>\n",
       "      <td>16</td>\n",
       "      <td>1</td>\n",
       "    </tr>\n",
       "    <tr>\n",
       "      <th>1</th>\n",
       "      <td>2023-07-05 16:31:00</td>\n",
       "      <td>Tom Petty</td>\n",
       "      <td>Free Fallin'</td>\n",
       "      <td>8.195</td>\n",
       "      <td>16</td>\n",
       "      <td>1</td>\n",
       "    </tr>\n",
       "    <tr>\n",
       "      <th>2</th>\n",
       "      <td>2023-07-05 16:31:00</td>\n",
       "      <td>2Pac</td>\n",
       "      <td>Young Niggaz</td>\n",
       "      <td>19.806</td>\n",
       "      <td>16</td>\n",
       "      <td>1</td>\n",
       "    </tr>\n",
       "    <tr>\n",
       "      <th>3</th>\n",
       "      <td>2023-07-05 16:31:00</td>\n",
       "      <td>2Pac</td>\n",
       "      <td>Young Niggaz</td>\n",
       "      <td>0.882</td>\n",
       "      <td>16</td>\n",
       "      <td>1</td>\n",
       "    </tr>\n",
       "    <tr>\n",
       "      <th>4</th>\n",
       "      <td>2023-07-05 16:31:00</td>\n",
       "      <td>Sleeping With Sirens</td>\n",
       "      <td>Better Off Dead</td>\n",
       "      <td>4.481</td>\n",
       "      <td>16</td>\n",
       "      <td>1</td>\n",
       "    </tr>\n",
       "    <tr>\n",
       "      <th>5</th>\n",
       "      <td>2023-07-05 16:31:00</td>\n",
       "      <td>Ariana Grande</td>\n",
       "      <td>ghostin</td>\n",
       "      <td>16.487</td>\n",
       "      <td>16</td>\n",
       "      <td>1</td>\n",
       "    </tr>\n",
       "    <tr>\n",
       "      <th>6</th>\n",
       "      <td>2023-07-05 16:32:00</td>\n",
       "      <td>Wu-Tang Clan</td>\n",
       "      <td>Bring Da Ruckus (feat. RZA, Ghostface Killah, ...</td>\n",
       "      <td>23.962</td>\n",
       "      <td>16</td>\n",
       "      <td>1</td>\n",
       "    </tr>\n",
       "    <tr>\n",
       "      <th>7</th>\n",
       "      <td>2023-07-05 16:32:00</td>\n",
       "      <td>2Pac</td>\n",
       "      <td>Young Niggaz</td>\n",
       "      <td>0.557</td>\n",
       "      <td>16</td>\n",
       "      <td>1</td>\n",
       "    </tr>\n",
       "    <tr>\n",
       "      <th>8</th>\n",
       "      <td>2023-07-05 16:32:00</td>\n",
       "      <td>Lana Del Rey</td>\n",
       "      <td>Young And Beautiful</td>\n",
       "      <td>0.208</td>\n",
       "      <td>16</td>\n",
       "      <td>1</td>\n",
       "    </tr>\n",
       "    <tr>\n",
       "      <th>9</th>\n",
       "      <td>2023-07-05 16:32:00</td>\n",
       "      <td>Leonard Cohen</td>\n",
       "      <td>Take This Waltz - Paris Version</td>\n",
       "      <td>50.828</td>\n",
       "      <td>16</td>\n",
       "      <td>0</td>\n",
       "    </tr>\n",
       "  </tbody>\n",
       "</table>\n",
       "</div>"
      ],
      "text/plain": [
       "              endTime            artistName  \\\n",
       "0 2023-07-05 16:31:00                  Rush   \n",
       "1 2023-07-05 16:31:00             Tom Petty   \n",
       "2 2023-07-05 16:31:00                  2Pac   \n",
       "3 2023-07-05 16:31:00                  2Pac   \n",
       "4 2023-07-05 16:31:00  Sleeping With Sirens   \n",
       "5 2023-07-05 16:31:00         Ariana Grande   \n",
       "6 2023-07-05 16:32:00          Wu-Tang Clan   \n",
       "7 2023-07-05 16:32:00                  2Pac   \n",
       "8 2023-07-05 16:32:00          Lana Del Rey   \n",
       "9 2023-07-05 16:32:00         Leonard Cohen   \n",
       "\n",
       "                                           trackName  secPlayed  hour  skipped  \n",
       "0                                         Tom Sawyer      2.066    16        1  \n",
       "1                                       Free Fallin'      8.195    16        1  \n",
       "2                                       Young Niggaz     19.806    16        1  \n",
       "3                                       Young Niggaz      0.882    16        1  \n",
       "4                                    Better Off Dead      4.481    16        1  \n",
       "5                                            ghostin     16.487    16        1  \n",
       "6  Bring Da Ruckus (feat. RZA, Ghostface Killah, ...     23.962    16        1  \n",
       "7                                       Young Niggaz      0.557    16        1  \n",
       "8                                Young And Beautiful      0.208    16        1  \n",
       "9                    Take This Waltz - Paris Version     50.828    16        0  "
      ]
     },
     "execution_count": 313,
     "metadata": {},
     "output_type": "execute_result"
    }
   ],
   "source": [
    "cleaned_df['skipped'] = (cleaned_df['secPlayed'] < 30)\n",
    "cleaned_df['skipped'] = cleaned_df['skipped'].astype(int)\n",
    "cleaned_df.head(10)"
   ]
  },
  {
   "cell_type": "markdown",
   "metadata": {},
   "source": [
    "#### 3.3 Plotting skipped songs\n",
    "Create a pie-chart that compares amount of skipped songs to amount of non-skipped songs."
   ]
  },
  {
   "cell_type": "code",
   "execution_count": null,
   "metadata": {},
   "outputs": [
    {
     "data": {
      "image/png": "[encoded data removed]",
      "text/plain": [
       "<Figure size 800x800 with 1 Axes>"
      ]
     },
     "metadata": {},
     "output_type": "display_data"
    }
   ],
   "source": [
    "skipped_counts = cleaned_df['skipped'].value_counts()\n",
    "labels = ['Skipped', 'Non-Skipped']\n",
    "plt.figure(figsize=(8, 8))\n",
    "plt.pie(skipped_counts, labels=labels, autopct='%1.1f%%', startangle=140)\n",
    "plt.axis('equal')\n",
    "plt.title('Skipped vs. Non-Skipped Songs')\n",
    "plt.show()"
   ]
  },
  {
   "cell_type": "markdown",
   "metadata": {},
   "source": [
    "#### 3.4 Artists by percentage of songs skipped\n",
    "For each artist in the dataset, calculate which percentage of their songs was skipped. Store this information in a new DataFrame called `df_skipped`. Store the percentage of skipped songs in a new column named `SkipRate`\\\n",
    "\\\n",
    "**Example**: If an artist has **100** songs in your dataset and **25** of these were skipped, the percentage of skipped songs for this artist would be $\\frac{25}{100}=25\\%$"
   ]
  },
  {
   "cell_type": "code",
   "execution_count": null,
   "metadata": {},
   "outputs": [
    {
     "data": {
      "text/html": [
       "<div>\n",
       "<style scoped>\n",
       "    .dataframe tbody tr th:only-of-type {\n",
       "        vertical-align: middle;\n",
       "    }\n",
       "\n",
       "    .dataframe tbody tr th {\n",
       "        vertical-align: top;\n",
       "    }\n",
       "\n",
       "    .dataframe thead th {\n",
       "        text-align: right;\n",
       "    }\n",
       "</style>\n",
       "<table border=\"1\" class=\"dataframe\">\n",
       "  <thead>\n",
       "    <tr style=\"text-align: right;\">\n",
       "      <th></th>\n",
       "      <th>artistName</th>\n",
       "      <th>SkipRate</th>\n",
       "    </tr>\n",
       "  </thead>\n",
       "  <tbody>\n",
       "    <tr>\n",
       "      <th>0</th>\n",
       "      <td>10cc</td>\n",
       "      <td>0.678571</td>\n",
       "    </tr>\n",
       "    <tr>\n",
       "      <th>1</th>\n",
       "      <td>2Pac</td>\n",
       "      <td>0.861598</td>\n",
       "    </tr>\n",
       "    <tr>\n",
       "      <th>2</th>\n",
       "      <td>3 Doors Down</td>\n",
       "      <td>0.500000</td>\n",
       "    </tr>\n",
       "    <tr>\n",
       "      <th>3</th>\n",
       "      <td>4 Non Blondes</td>\n",
       "      <td>0.721311</td>\n",
       "    </tr>\n",
       "    <tr>\n",
       "      <th>4</th>\n",
       "      <td>50 Cent</td>\n",
       "      <td>0.678571</td>\n",
       "    </tr>\n",
       "    <tr>\n",
       "      <th>5</th>\n",
       "      <td>88rising</td>\n",
       "      <td>0.700375</td>\n",
       "    </tr>\n",
       "    <tr>\n",
       "      <th>6</th>\n",
       "      <td>A Day To Remember</td>\n",
       "      <td>0.684211</td>\n",
       "    </tr>\n",
       "    <tr>\n",
       "      <th>7</th>\n",
       "      <td>A Problem Squared</td>\n",
       "      <td>1.000000</td>\n",
       "    </tr>\n",
       "    <tr>\n",
       "      <th>8</th>\n",
       "      <td>A R I Z O N A</td>\n",
       "      <td>0.800000</td>\n",
       "    </tr>\n",
       "    <tr>\n",
       "      <th>9</th>\n",
       "      <td>A Tribe Called Quest</td>\n",
       "      <td>0.792271</td>\n",
       "    </tr>\n",
       "  </tbody>\n",
       "</table>\n",
       "</div>"
      ],
      "text/plain": [
       "             artistName  SkipRate\n",
       "0                  10cc  0.678571\n",
       "1                  2Pac  0.861598\n",
       "2          3 Doors Down  0.500000\n",
       "3         4 Non Blondes  0.721311\n",
       "4               50 Cent  0.678571\n",
       "5              88rising  0.700375\n",
       "6     A Day To Remember  0.684211\n",
       "7     A Problem Squared  1.000000\n",
       "8         A R I Z O N A  0.800000\n",
       "9  A Tribe Called Quest  0.792271"
      ]
     },
     "execution_count": 315,
     "metadata": {},
     "output_type": "execute_result"
    }
   ],
   "source": [
    "df_skipped = cleaned_df.groupby('artistName')['skipped'].mean().reset_index()\n",
    "df_skipped.columns = ['artistName', 'SkipRate']\n",
    "df_skipped.head(10)"
   ]
  },
  {
   "cell_type": "markdown",
   "metadata": {},
   "source": [
    "#### 3.5 Comparing artists by skip-rate \n",
    "Find the `three` top artists with the lowest skip-rate and the `three` with the highest. Print their names, along with their skip-rate."
   ]
  },
  {
   "cell_type": "code",
   "execution_count": null,
   "metadata": {},
   "outputs": [
    {
     "name": "stdout",
     "output_type": "stream",
     "text": [
      "           artistName  SkipRate\n",
      "7   A Problem Squared       1.0\n",
      "16         Acid Ghost       1.0\n",
      "25  Albert Hammond Jr       1.0\n",
      "        artistName  SkipRate\n",
      "305  Gloria Gaynor  0.000000\n",
      "645       Roc Boyz  0.111111\n",
      "437          LACES  0.142857\n"
     ]
    }
   ],
   "source": [
    "most_skipped = df_skipped.nlargest(3, 'SkipRate')\n",
    "least_skipped = df_skipped.nsmallest(3, 'SkipRate')\n",
    "print(most_skipped)\n",
    "print(least_skipped)"
   ]
  },
  {
   "cell_type": "markdown",
   "metadata": {},
   "source": [
    "## Part 4: God Is a Data Scientist - The Ariana Deep-Dive"
   ]
  },
  {
   "cell_type": "markdown",
   "metadata": {},
   "source": [
    "#### 4.0 Ariana-DataFrame: \n",
    "Create a new DataFrame called *df_ariana*, containing only rows with music by Ariana Grande."
   ]
  },
  {
   "cell_type": "code",
   "execution_count": null,
   "metadata": {},
   "outputs": [
    {
     "data": {
      "text/html": [
       "<div>\n",
       "<style scoped>\n",
       "    .dataframe tbody tr th:only-of-type {\n",
       "        vertical-align: middle;\n",
       "    }\n",
       "\n",
       "    .dataframe tbody tr th {\n",
       "        vertical-align: top;\n",
       "    }\n",
       "\n",
       "    .dataframe thead th {\n",
       "        text-align: right;\n",
       "    }\n",
       "</style>\n",
       "<table border=\"1\" class=\"dataframe\">\n",
       "  <thead>\n",
       "    <tr style=\"text-align: right;\">\n",
       "      <th></th>\n",
       "      <th>endTime</th>\n",
       "      <th>artistName</th>\n",
       "      <th>trackName</th>\n",
       "      <th>secPlayed</th>\n",
       "      <th>hour</th>\n",
       "      <th>skipped</th>\n",
       "    </tr>\n",
       "  </thead>\n",
       "  <tbody>\n",
       "    <tr>\n",
       "      <th>5</th>\n",
       "      <td>2023-07-05 16:31:00</td>\n",
       "      <td>Ariana Grande</td>\n",
       "      <td>ghostin</td>\n",
       "      <td>16.487</td>\n",
       "      <td>16</td>\n",
       "      <td>1</td>\n",
       "    </tr>\n",
       "    <tr>\n",
       "      <th>21</th>\n",
       "      <td>2023-07-05 16:39:00</td>\n",
       "      <td>Ariana Grande</td>\n",
       "      <td>34+35</td>\n",
       "      <td>27.438</td>\n",
       "      <td>16</td>\n",
       "      <td>1</td>\n",
       "    </tr>\n",
       "    <tr>\n",
       "      <th>27</th>\n",
       "      <td>2023-07-05 16:48:00</td>\n",
       "      <td>Ariana Grande</td>\n",
       "      <td>Baby I</td>\n",
       "      <td>7.536</td>\n",
       "      <td>16</td>\n",
       "      <td>1</td>\n",
       "    </tr>\n",
       "    <tr>\n",
       "      <th>29</th>\n",
       "      <td>2023-07-05 16:52:00</td>\n",
       "      <td>Ariana Grande</td>\n",
       "      <td>34+35</td>\n",
       "      <td>12.585</td>\n",
       "      <td>16</td>\n",
       "      <td>1</td>\n",
       "    </tr>\n",
       "    <tr>\n",
       "      <th>49</th>\n",
       "      <td>2023-07-05 16:54:00</td>\n",
       "      <td>Ariana Grande</td>\n",
       "      <td>ghostin</td>\n",
       "      <td>24.501</td>\n",
       "      <td>16</td>\n",
       "      <td>1</td>\n",
       "    </tr>\n",
       "    <tr>\n",
       "      <th>57</th>\n",
       "      <td>2023-07-05 16:55:00</td>\n",
       "      <td>Ariana Grande</td>\n",
       "      <td>Break Your Heart Right Back</td>\n",
       "      <td>9.840</td>\n",
       "      <td>16</td>\n",
       "      <td>1</td>\n",
       "    </tr>\n",
       "    <tr>\n",
       "      <th>67</th>\n",
       "      <td>2023-07-05 21:24:00</td>\n",
       "      <td>Ariana Grande</td>\n",
       "      <td>Just Look Up (From Don’t Look Up)</td>\n",
       "      <td>22.302</td>\n",
       "      <td>21</td>\n",
       "      <td>1</td>\n",
       "    </tr>\n",
       "    <tr>\n",
       "      <th>80</th>\n",
       "      <td>2023-07-05 21:27:00</td>\n",
       "      <td>Ariana Grande</td>\n",
       "      <td>Just A Little Bit Of Your Heart</td>\n",
       "      <td>0.069</td>\n",
       "      <td>21</td>\n",
       "      <td>1</td>\n",
       "    </tr>\n",
       "    <tr>\n",
       "      <th>82</th>\n",
       "      <td>2023-07-05 21:27:00</td>\n",
       "      <td>Ariana Grande</td>\n",
       "      <td>One Last Time</td>\n",
       "      <td>0.023</td>\n",
       "      <td>21</td>\n",
       "      <td>1</td>\n",
       "    </tr>\n",
       "    <tr>\n",
       "      <th>89</th>\n",
       "      <td>2023-07-05 21:27:00</td>\n",
       "      <td>Ariana Grande</td>\n",
       "      <td>MONOPOLY (with Victoria Monét)</td>\n",
       "      <td>0.208</td>\n",
       "      <td>21</td>\n",
       "      <td>1</td>\n",
       "    </tr>\n",
       "  </tbody>\n",
       "</table>\n",
       "</div>"
      ],
      "text/plain": [
       "               endTime     artistName                          trackName  \\\n",
       "5  2023-07-05 16:31:00  Ariana Grande                            ghostin   \n",
       "21 2023-07-05 16:39:00  Ariana Grande                              34+35   \n",
       "27 2023-07-05 16:48:00  Ariana Grande                             Baby I   \n",
       "29 2023-07-05 16:52:00  Ariana Grande                              34+35   \n",
       "49 2023-07-05 16:54:00  Ariana Grande                            ghostin   \n",
       "57 2023-07-05 16:55:00  Ariana Grande        Break Your Heart Right Back   \n",
       "67 2023-07-05 21:24:00  Ariana Grande  Just Look Up (From Don’t Look Up)   \n",
       "80 2023-07-05 21:27:00  Ariana Grande    Just A Little Bit Of Your Heart   \n",
       "82 2023-07-05 21:27:00  Ariana Grande                      One Last Time   \n",
       "89 2023-07-05 21:27:00  Ariana Grande     MONOPOLY (with Victoria Monét)   \n",
       "\n",
       "    secPlayed  hour  skipped  \n",
       "5      16.487    16        1  \n",
       "21     27.438    16        1  \n",
       "27      7.536    16        1  \n",
       "29     12.585    16        1  \n",
       "49     24.501    16        1  \n",
       "57      9.840    16        1  \n",
       "67     22.302    21        1  \n",
       "80      0.069    21        1  \n",
       "82      0.023    21        1  \n",
       "89      0.208    21        1  "
      ]
     },
     "execution_count": 317,
     "metadata": {},
     "output_type": "execute_result"
    }
   ],
   "source": [
    "df_ariana = cleaned_df[cleaned_df['artistName'] == 'Ariana Grande'].copy()\n",
    "df_ariana.head(10)"
   ]
  },
  {
   "cell_type": "markdown",
   "metadata": {},
   "source": [
    "#### 4.1 Average skip rate\n",
    "Create a histogram of the distribution of the skip-rate values of the different artists in your DataFrame  `df_skipped`, with skip rates on one axis and number of artists on the other. \\\n",
    "\\\n",
    "Then, retrieve the skip rate for Ariana Grande from your DataFrame `df_skipped`. Run the code in the cell below. Where on this distribution does Ariana Grande fall? Do I skip her songs more than average, or less?"
   ]
  },
  {
   "cell_type": "code",
   "execution_count": null,
   "metadata": {},
   "outputs": [
    {
     "data": {
      "image/png": "[encoded data removed]",
      "text/plain": [
       "<Figure size 640x480 with 1 Axes>"
      ]
     },
     "metadata": {},
     "output_type": "display_data"
    },
    {
     "name": "stdout",
     "output_type": "stream",
     "text": [
      "Ariana Grande's skip rate: 0.9952939959662822\n"
     ]
    }
   ],
   "source": [
    "plt.hist(df_skipped['SkipRate'])\n",
    "plt.xlabel('Skip Rate')\n",
    "plt.ylabel('Number of Artists')\n",
    "plt.title('Distribution of Skip Rate Values')\n",
    "plt.show()\n",
    "\n",
    "ariana_skip_rate = df_skipped[df_skipped['artistName'] == 'Ariana Grande']['SkipRate'].values[0]\n",
    "print(\"Ariana Grande's skip rate:\", ariana_skip_rate)"
   ]
  },
  {
   "cell_type": "markdown",
   "metadata": {},
   "source": [
    "### Part 4: Questions\n",
    "Q1: Did I skip a lot of Ariana Grande's songs, or did I not, compared to the rest of the dataset? \\\n",
    "Yes you skipped a lot of Ariana Grande´s songs compared to the rest of the dataset as seen in the graf above. \n",
    "\n",
    "Q2: What might be some possible reasons for Ariana Grande to be my nr.1 artist?\n",
    "A reason for Ariana Grande to be your number 1 artist is that you have pressed played many times and then figured out before 30 seconds that the songs were not that great after all. However, in 0.5% of the cases you thought the songs were relative good and let them play for longer. "
   ]
  }
 ],
 "metadata": {
  "kernelspec": {
   "display_name": "exp",
   "language": "python",
   "name": "python3"
  },
  "language_info": {
   "codemirror_mode": {
    "name": "ipython",
    "version": 3
   },
   "file_extension": ".py",
   "mimetype": "text/x-python",
   "name": "python",
   "nbconvert_exporter": "python",
   "pygments_lexer": "ipython3",
   "version": "3.12.8"
  }
 },
 "nbformat": 4,
 "nbformat_minor": 2
}
